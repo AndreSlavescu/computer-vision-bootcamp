{
  "nbformat": 4,
  "nbformat_minor": 0,
  "metadata": {
    "colab": {
      "name": "UWARG Bootcamp",
      "provenance": [],
      "authorship_tag": "ABX9TyPXrIxVPGbkTt+X3H5bSvES",
      "include_colab_link": true
    },
    "kernelspec": {
      "name": "python3",
      "display_name": "Python 3"
    },
    "language_info": {
      "name": "python"
    }
  },
  "cells": [
    {
      "cell_type": "markdown",
      "metadata": {
        "id": "view-in-github",
        "colab_type": "text"
      },
      "source": [
        "<a href=\"https://colab.research.google.com/github/AndreSlavescu/computer-vision-bootcamp/blob/master/UWARG_Bootcamp.ipynb\" target=\"_parent\"><img src=\"https://colab.research.google.com/assets/colab-badge.svg\" alt=\"Open In Colab\"/></a>"
      ]
    },
    {
      "cell_type": "markdown",
      "source": [
        "# University of Waterloo Arial Robotics Group Computer Vision Bootcamp"
      ],
      "metadata": {
        "id": "LnUKD4bF1LdG"
      }
    },
    {
      "cell_type": "code",
      "execution_count": 1,
      "metadata": {
        "colab": {
          "base_uri": "https://localhost:8080/",
          "height": 72
        },
        "id": "RJ-f7ozC1EwH",
        "outputId": "e483508d-d6a3-43c1-d4bc-0821e493ff77"
      },
      "outputs": [
        {
          "output_type": "execute_result",
          "data": {
            "application/vnd.google.colaboratory.intrinsic+json": {
              "type": "string"
            },
            "text/plain": [
              "\"\\nThis is a starter file to get you going. You may also include other files if you feel it's necessary.\\n\\nMake sure to follow the code convention described here:\\nhttps://github.com/UWARG/computer-vision-python/blob/main/README.md#naming-and-typing-conventions\\n\\nHints:\\n* The internet is your friend! Don't be afraid to search for tutorials/intros/etc.\\n* We suggest using a convolutional neural network.\\n* TensorFlow Keras has the CIFAR-10 dataset as a module, so you don't need to manually download and unpack it.\\n\""
            ]
          },
          "metadata": {},
          "execution_count": 1
        }
      ],
      "source": [
        "\"\"\"\n",
        "This is a starter file to get you going. You may also include other files if you feel it's necessary.\n",
        "\n",
        "Make sure to follow the code convention described here:\n",
        "https://github.com/UWARG/computer-vision-python/blob/main/README.md#naming-and-typing-conventions\n",
        "\n",
        "Hints:\n",
        "* The internet is your friend! Don't be afraid to search for tutorials/intros/etc.\n",
        "* We suggest using a convolutional neural network.\n",
        "* TensorFlow Keras has the CIFAR-10 dataset as a module, so you don't need to manually download and unpack it.\n",
        "\"\"\""
      ]
    },
    {
      "cell_type": "markdown",
      "source": [
        "# Imports and Setup"
      ],
      "metadata": {
        "id": "CNWG7ViM1TIV"
      }
    },
    {
      "cell_type": "code",
      "source": [
        "import tensorflow as tf\n",
        "import numpy as np\n",
        "import pandas as pd\n",
        "\n",
        "# Plotting and Data Visualization Libraries\n",
        "import matplotlib.pyplot as plt\n",
        "import matplotlib.image as mpimg\n",
        "import seaborn as sns\n",
        "\n",
        "# Complex Iterator Library \n",
        "import itertools "
      ],
      "metadata": {
        "id": "Y3pOBiVO1UXm"
      },
      "execution_count": 2,
      "outputs": []
    },
    {
      "cell_type": "markdown",
      "source": [
        "# Data Loading and Pre-Processing"
      ],
      "metadata": {
        "id": "wmLoSAood2RS"
      }
    },
    {
      "cell_type": "code",
      "source": [
        "# Load the Dataset\n",
        "data = tf.keras.datasets.cifar10\n",
        "\n",
        "# Split Data into x_train, y_train, x_test, and y_test as a set of two tuples for training and validation sets\n",
        "# x_train, x_test -> training and testing sets of 32x32 pixel images\n",
        "# y_train, y_test -> labels for the respective images \n",
        "\n",
        "(x_train, y_train), (x_test, y_test) = data.load_data()"
      ],
      "metadata": {
        "id": "iVB75Xdyd4Zz"
      },
      "execution_count": 12,
      "outputs": []
    },
    {
      "cell_type": "code",
      "source": [
        "# Check Format\n",
        "print(f\"x_train: {x_train.shape}\\nx_test: {x_test.shape}\")"
      ],
      "metadata": {
        "colab": {
          "base_uri": "https://localhost:8080/"
        },
        "id": "ln5QJmGPfubX",
        "outputId": "15250b96-cfae-4b7f-a176-066d523889e1"
      },
      "execution_count": 34,
      "outputs": [
        {
          "output_type": "stream",
          "name": "stdout",
          "text": [
            "x_train: (50000, 32, 32, 3)\n",
            "x_test: (10000, 32, 32, 3)\n"
          ]
        }
      ]
    },
    {
      "cell_type": "code",
      "source": [
        "\"\"\"\n",
        "Based on the above output, we can see that our training sets are 50000 images each with 32x32 pixel images. \n",
        "Our test sets however are much smaller with around 10000 images of the same type.\n",
        "\"\"\""
      ],
      "metadata": {
        "colab": {
          "base_uri": "https://localhost:8080/",
          "height": 35
        },
        "id": "usBsAsodf8Iq",
        "outputId": "cfb565d4-c204-4402-ad4a-6a7ed13c5b41"
      },
      "execution_count": 14,
      "outputs": [
        {
          "output_type": "execute_result",
          "data": {
            "application/vnd.google.colaboratory.intrinsic+json": {
              "type": "string"
            },
            "text/plain": [
              "'\\nBased on the above output, we can see that our training sets are 50000 images each with 32x32 pixel images. \\nOur test sets however are much smaller with around 10000 images of the same type.\\n'"
            ]
          },
          "metadata": {},
          "execution_count": 14
        }
      ]
    },
    {
      "cell_type": "code",
      "source": [
        "# Flatten Label Data to be passed to the input layers we want 1D data for fully connected layers in the Feedforward Neural Network structure\n",
        "y_train = y_train.flatten()\n",
        "y_test = y_test.flatten()"
      ],
      "metadata": {
        "id": "eUDZFoWigbyR"
      },
      "execution_count": 18,
      "outputs": []
    },
    {
      "cell_type": "code",
      "source": [
        "# Class Labels\n",
        "classes = ['airplane', \n",
        "           'automobile',\n",
        "           'bird',\n",
        "           'cat',\n",
        "           'deer',\n",
        "           'dog',\n",
        "           'frog',\n",
        "           'horse',\n",
        "           'ship',\n",
        "           'truck']\n",
        "\n",
        "# Plot the Data\n",
        "plt.figure(figsize=(20,10))\n",
        "plot = sns.countplot(y_train)\n",
        "plot.set(title = \"Class Image Counts\")\n",
        "plot.set(xticklabels=classes)\n",
        "plot.set(xlabel=\"Classes\")\n",
        "plot.set(ylabel=\"Amount of Images\")"
      ],
      "metadata": {
        "colab": {
          "base_uri": "https://localhost:8080/",
          "height": 695
        },
        "id": "ETfpWWCeqYki",
        "outputId": "2027f8d3-bd5f-4585-9c45-f174a35dc4e9"
      },
      "execution_count": 25,
      "outputs": [
        {
          "output_type": "stream",
          "name": "stderr",
          "text": [
            "/usr/local/lib/python3.7/dist-packages/seaborn/_decorators.py:43: FutureWarning: Pass the following variable as a keyword arg: x. From version 0.12, the only valid positional argument will be `data`, and passing other arguments without an explicit keyword will result in an error or misinterpretation.\n",
            "  FutureWarning\n"
          ]
        },
        {
          "output_type": "execute_result",
          "data": {
            "text/plain": [
              "[Text(0, 0.5, 'Amount of Images')]"
            ]
          },
          "metadata": {},
          "execution_count": 25
        },
        {
          "output_type": "display_data",
          "data": {
            "image/png": "[encoded data removed]",
            "text/plain": [
              "<Figure size 1440x720 with 1 Axes>"
            ]
          },
          "metadata": {
            "needs_background": "light"
          }
        }
      ]
    },
    {
      "cell_type": "code",
      "source": [
        "\"\"\"\n",
        "From the above plot, we can observe that each class has a total of 5000 images.\n",
        "Given that there are 10 classes, we have a total of 50,000 images.\n",
        "\"\"\""
      ],
      "metadata": {
        "colab": {
          "base_uri": "https://localhost:8080/",
          "height": 35
        },
        "id": "SADhXeuAq6vE",
        "outputId": "6e05e91c-bbc7-46f0-994c-16e5777b614c"
      },
      "execution_count": 21,
      "outputs": [
        {
          "output_type": "execute_result",
          "data": {
            "application/vnd.google.colaboratory.intrinsic+json": {
              "type": "string"
            },
            "text/plain": [
              "'\\nFrom the above plot, we can observe that each class has a total of 5000 images.\\nGiven that there are 10 classes, we have a total of 50,000 images.\\n'"
            ]
          },
          "metadata": {},
          "execution_count": 21
        }
      ]
    },
    {
      "cell_type": "markdown",
      "source": [
        "# Data Normalization and Reshaping"
      ],
      "metadata": {
        "id": "JaaXgM6ns0OX"
      }
    },
    {
      "cell_type": "code",
      "source": [
        "# Since we're constructing a CNN, we want normalized values for our data; values that range from 0 to 1\n",
        "# Our data as it is right now, ranges from 0-255\n",
        "\n",
        "x_train = x_train.reshape(x_train.shape[0], x_train.shape[1], x_train.shape[2], 3)\n",
        "x_test = x_test.reshape(x_test.shape[0], x_test.shape[1], x_test.shape[2], 3)\n",
        "x_train = x_train/255.0\n",
        "x_test = x_test/255.0"
      ],
      "metadata": {
        "id": "taugu_aFs5R6"
      },
      "execution_count": 26,
      "outputs": []
    },
    {
      "cell_type": "code",
      "source": [
        "# Using one-hot encoding, more features can be added to the categorical variables which are the labels\n",
        "y_train = tf.one_hot(y_train.astype(np.int32), depth=len(classes))\n",
        "y_test = tf.one_hot(y_test.astype(np.int32), depth=len(classes)) "
      ],
      "metadata": {
        "id": "Rc7LzfjquDEB"
      },
      "execution_count": 27,
      "outputs": []
    },
    {
      "cell_type": "code",
      "source": [
        "# Here is an example image with it's respective label \n",
        "plt.imshow(x_train[0])\n",
        "print(y_train[0])"
      ],
      "metadata": {
        "colab": {
          "base_uri": "https://localhost:8080/",
          "height": 284
        },
        "id": "Rzf-SLE3wSaL",
        "outputId": "255f165b-f877-4bf2-c061-b77281ec05f2"
      },
      "execution_count": 36,
      "outputs": [
        {
          "output_type": "stream",
          "name": "stdout",
          "text": [
            "tf.Tensor([0. 0. 0. 0. 0. 0. 1. 0. 0. 0.], shape=(10,), dtype=float32)\n"
          ]
        },
        {
          "output_type": "display_data",
          "data": {
            "image/png": "[encoded data removed]",
            "text/plain": [
              "<Figure size 432x288 with 1 Axes>"
            ]
          },
          "metadata": {
            "needs_background": "light"
          }
        }
      ]
    },
    {
      "cell_type": "code",
      "source": [
        "\"\"\"\n",
        "The above image is a frog\n",
        "\"\"\""
      ],
      "metadata": {
        "colab": {
          "base_uri": "https://localhost:8080/",
          "height": 35
        },
        "id": "lADL6i0Vw-El",
        "outputId": "c29b9d72-fed9-4972-d13f-78672bc6ee74"
      },
      "execution_count": 31,
      "outputs": [
        {
          "output_type": "execute_result",
          "data": {
            "application/vnd.google.colaboratory.intrinsic+json": {
              "type": "string"
            },
            "text/plain": [
              "'\\nThe above image is a frog\\n'"
            ]
          },
          "metadata": {},
          "execution_count": 31
        }
      ]
    },
    {
      "cell_type": "markdown",
      "source": [
        "# Building and Evaluating the Model"
      ],
      "metadata": {
        "id": "y3Am8YXpx0Br"
      }
    },
    {
      "cell_type": "code",
      "source": [
        "# Overfitting on the data is a risk that is enabled by the below parameters\n",
        "# Training for too long will develop biases within the model, and undertraining\n",
        "# Will affect the accuracy simply because there isn't enough confidence to make\n",
        "# a valid prediction \n",
        "\n",
        "# There are techniques to prevent overfitting the model such as data augmentation\n",
        "# Where artificial data is generated by altering existing data \n",
        "# (No Data augmentation will be employed in this notebook)\n",
        "\n",
        "# Defining Constants\n",
        "batch_size = 32\n",
        "class_count = len(classes)\n",
        "epochs = 30"
      ],
      "metadata": {
        "id": "af59jMJpx2bQ"
      },
      "execution_count": 38,
      "outputs": []
    },
    {
      "cell_type": "code",
      "source": [
        "# Model Desgin:\n",
        "# 2 Convolution Layers with 32 Filters\n",
        "# Pooling Layer\n",
        "# 2 Convolution Layers with 64 Filters\n",
        "# Pooling Layer\n",
        "# Flatten Layer to convert data to 1D for Dense Layer Processing \n",
        "# 2 Dense Layers one of which is an Output Layer\n",
        "\n",
        "# Pooling layers take the max float value from a 2x2 matrix of values and produces\n",
        "# One pixel \n",
        "\n",
        "input_shape = (32, 32, 3)\n",
        "\n",
        "# Define the Model - Sequential Model Structure\n",
        "model = tf.keras.models.Sequential([\n",
        "    tf.keras.layers.Conv2D(filters = 32,\n",
        "                           kernel_size = 3,\n",
        "                           padding = \"same\",\n",
        "                           input_shape = x_train.shape[1:],\n",
        "                           activation = \"relu\"),\n",
        "    tf.keras.layers.Conv2D(filters = 32,\n",
        "                           kernel_size = 3,\n",
        "                           activation = \"relu\"),\n",
        "    tf.keras.layers.MaxPool2D(),\n",
        "    tf.keras.layers.Dropout(0.2),\n",
        "\n",
        "    tf.keras.layers.Conv2D(filters = 64,\n",
        "                           kernel_size = 3,\n",
        "                           padding = \"same\",\n",
        "                           activation = \"relu\"),\n",
        "    tf.keras.layers.Conv2D(filters = 64,\n",
        "                           kernel_size = 3,\n",
        "                           activation = \"relu\"),\n",
        "    tf.keras.layers.MaxPool2D(),\n",
        "    tf.keras.layers.Dropout(0.2),\n",
        "\n",
        "    tf.keras.layers.Flatten(),\n",
        "\n",
        "    tf.keras.layers.Dense(units = 512, activation = \"relu\"),\n",
        "    tf.keras.layers.Dropout(0.5),\n",
        "    tf.keras.layers.Dense(units = class_count, activation = \"softmax\")\n",
        "])"
      ],
      "metadata": {
        "id": "yeTWvkZD7_X3"
      },
      "execution_count": 40,
      "outputs": []
    },
    {
      "cell_type": "code",
      "source": [
        "# Using the Adam optimizer for a fast optimization algorithm to achieve the desired output \n",
        "\n",
        "# Compile the Model\n",
        "model.compile(optimizer = tf.keras.optimizers.Adam(learning_rate = 1e-03, decay = 1e-05),\n",
        "              loss = \"categorical_crossentropy\", metrics = [\"accuracy\"])"
      ],
      "metadata": {
        "id": "7U8Ai_toKEWo"
      },
      "execution_count": 41,
      "outputs": []
    },
    {
      "cell_type": "code",
      "source": [
        "# Fit the Training Data\n",
        "\n",
        "training = model.fit(x_train, y_train, batch_size = batch_size, epochs = epochs)"
      ],
      "metadata": {
        "colab": {
          "base_uri": "https://localhost:8080/"
        },
        "id": "7-0_a-J0MiZy",
        "outputId": "6083b058-12ba-4629-8865-0507c5906ba7"
      },
      "execution_count": 42,
      "outputs": [
        {
          "output_type": "stream",
          "name": "stdout",
          "text": [
            "Epoch 1/30\n",
            "1563/1563 [==============================] - 165s 105ms/step - loss: 1.5172 - accuracy: 0.4414\n",
            "Epoch 2/30\n",
            "1563/1563 [==============================] - 170s 109ms/step - loss: 1.1085 - accuracy: 0.6078\n",
            "Epoch 3/30\n",
            "1563/1563 [==============================] - 162s 104ms/step - loss: 0.9426 - accuracy: 0.6658\n",
            "Epoch 4/30\n",
            "1563/1563 [==============================] - 156s 99ms/step - loss: 0.8471 - accuracy: 0.7040\n",
            "Epoch 5/30\n",
            "1563/1563 [==============================] - 155s 99ms/step - loss: 0.7775 - accuracy: 0.7267\n",
            "Epoch 6/30\n",
            "1563/1563 [==============================] - 155s 99ms/step - loss: 0.7218 - accuracy: 0.7485\n",
            "Epoch 7/30\n",
            "1563/1563 [==============================] - 155s 99ms/step - loss: 0.6785 - accuracy: 0.7623\n",
            "Epoch 8/30\n",
            "1563/1563 [==============================] - 155s 99ms/step - loss: 0.6341 - accuracy: 0.7790\n",
            "Epoch 9/30\n",
            "1563/1563 [==============================] - 155s 99ms/step - loss: 0.6034 - accuracy: 0.7877\n",
            "Epoch 10/30\n",
            "1563/1563 [==============================] - 155s 99ms/step - loss: 0.5758 - accuracy: 0.7974\n",
            "Epoch 11/30\n",
            "1563/1563 [==============================] - 155s 99ms/step - loss: 0.5514 - accuracy: 0.8056\n",
            "Epoch 12/30\n",
            "1563/1563 [==============================] - 155s 99ms/step - loss: 0.5269 - accuracy: 0.8139\n",
            "Epoch 13/30\n",
            "1563/1563 [==============================] - 155s 99ms/step - loss: 0.5029 - accuracy: 0.8237\n",
            "Epoch 14/30\n",
            "1563/1563 [==============================] - 155s 99ms/step - loss: 0.4811 - accuracy: 0.8291\n",
            "Epoch 15/30\n",
            "1563/1563 [==============================] - 155s 99ms/step - loss: 0.4678 - accuracy: 0.8356\n",
            "Epoch 16/30\n",
            "1563/1563 [==============================] - 155s 99ms/step - loss: 0.4486 - accuracy: 0.8414\n",
            "Epoch 17/30\n",
            "1563/1563 [==============================] - 155s 99ms/step - loss: 0.4271 - accuracy: 0.8487\n",
            "Epoch 18/30\n",
            "1563/1563 [==============================] - 155s 99ms/step - loss: 0.4146 - accuracy: 0.8538\n",
            "Epoch 19/30\n",
            "1563/1563 [==============================] - 154s 99ms/step - loss: 0.4018 - accuracy: 0.8578\n",
            "Epoch 20/30\n",
            "1563/1563 [==============================] - 155s 99ms/step - loss: 0.3914 - accuracy: 0.8619\n",
            "Epoch 21/30\n",
            "1563/1563 [==============================] - 155s 99ms/step - loss: 0.3862 - accuracy: 0.8641\n",
            "Epoch 22/30\n",
            "1563/1563 [==============================] - 156s 100ms/step - loss: 0.3694 - accuracy: 0.8681\n",
            "Epoch 23/30\n",
            "1563/1563 [==============================] - 156s 100ms/step - loss: 0.3615 - accuracy: 0.8711\n",
            "Epoch 24/30\n",
            "1563/1563 [==============================] - 156s 100ms/step - loss: 0.3464 - accuracy: 0.8763\n",
            "Epoch 25/30\n",
            "1563/1563 [==============================] - 155s 99ms/step - loss: 0.3415 - accuracy: 0.8781\n",
            "Epoch 26/30\n",
            "1563/1563 [==============================] - 155s 99ms/step - loss: 0.3326 - accuracy: 0.8832\n",
            "Epoch 27/30\n",
            "1563/1563 [==============================] - 155s 99ms/step - loss: 0.3273 - accuracy: 0.8844\n",
            "Epoch 28/30\n",
            "1563/1563 [==============================] - 155s 99ms/step - loss: 0.3156 - accuracy: 0.8888\n",
            "Epoch 29/30\n",
            "1563/1563 [==============================] - 155s 99ms/step - loss: 0.3165 - accuracy: 0.8879\n",
            "Epoch 30/30\n",
            "1563/1563 [==============================] - 155s 99ms/step - loss: 0.3023 - accuracy: 0.8929\n"
          ]
        }
      ]
    },
    {
      "cell_type": "code",
      "source": [
        "# Plot Accuracy and Loss with respect to the current epoch\n",
        "fig, (ax1, ax2) = plt.subplots(nrows = 1, ncols = 2)\n",
        "fig.tight_layout()\n",
        "\n",
        "ax1.plot(training.history[\"accuracy\"])\n",
        "ax2.plot(training.history[\"loss\"])\n",
        "\n",
        "ax1.set(title = \"Accuracy Overtime\")\n",
        "ax2.set(title = \"Loss Overtime\")\n",
        "ax1.set(xlabel = \"epochs\")\n",
        "ax1.set(ylabel = \"accuracy\")\n",
        "ax2.set(xlabel = \"epochs\")\n",
        "ax2.set(ylabel = \"loss\")"
      ],
      "metadata": {
        "colab": {
          "base_uri": "https://localhost:8080/",
          "height": 341
        },
        "id": "woK6VOTcNJ0E",
        "outputId": "8380eade-cb20-4cf9-e5b9-d0379db90c3e"
      },
      "execution_count": 58,
      "outputs": [
        {
          "output_type": "execute_result",
          "data": {
            "text/plain": [
              "[Text(209.74318181818177, 0.5, 'loss')]"
            ]
          },
          "metadata": {},
          "execution_count": 58
        },
        {
          "output_type": "display_data",
          "data": {
            "image/png": "[encoded data removed]",
            "text/plain": [
              "<Figure size 432x288 with 2 Axes>"
            ]
          },
          "metadata": {
            "needs_background": "light"
          }
        }
      ]
    },
    {
      "cell_type": "code",
      "source": [
        "# Evaluating the Model's Performance Overtime\n",
        "\n",
        "test_accuracy, test_loss = model.evaluate(x_test, y_test)"
      ],
      "metadata": {
        "colab": {
          "base_uri": "https://localhost:8080/"
        },
        "id": "fHtwmIxMhVXh",
        "outputId": "0ecbd798-668f-4532-add8-3c9649abf0b0"
      },
      "execution_count": 61,
      "outputs": [
        {
          "output_type": "stream",
          "name": "stdout",
          "text": [
            "313/313 [==============================] - 8s 27ms/step - loss: 0.6965 - accuracy: 0.7958\n"
          ]
        }
      ]
    }
  ]
}